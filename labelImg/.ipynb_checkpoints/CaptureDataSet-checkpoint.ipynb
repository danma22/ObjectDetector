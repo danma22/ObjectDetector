{
 "cells": [
  {
   "cell_type": "code",
   "execution_count": 1,
   "metadata": {},
   "outputs": [
    {
     "name": "stdout",
     "output_type": "stream",
     "text": [
      "frame saved\n",
      "frame saved\n",
      "frame saved\n",
      "frame saved\n",
      "frame saved\n",
      "frame saved\n",
      "frame saved\n",
      "frame saved\n",
      "frame saved\n",
      "frame saved\n",
      "frame saved\n",
      "frame saved\n",
      "frame saved\n",
      "frame saved\n",
      "frame saved\n",
      "frame saved\n",
      "frame saved\n",
      "frame saved\n"
     ]
    }
   ],
   "source": [
    "import cv2\n",
    "\n",
    "# get the reference to the webcam\n",
    "camera = cv2.VideoCapture(0)\n",
    "imagesList = []\n",
    "\n",
    "\n",
    "while(True):\n",
    "   \n",
    "    _, frame = camera.read()\n",
    "    \n",
    "    cv2.imshow(\"Camera\", frame)\n",
    "\n",
    "    key = cv2.waitKey(1)\n",
    "\n",
    "    if key & 0xFF == ord(\"q\"):\n",
    "        break\n",
    "    elif key & 0xFF == ord(\"1\"):\n",
    "        imagesList.append(frame)\n",
    "        print('frame saved')\n",
    "\n",
    "\n",
    "camera.release()\n",
    "cv2.destroyAllWindows()"
   ]
  },
  {
   "cell_type": "code",
   "execution_count": 2,
   "metadata": {},
   "outputs": [],
   "source": [
    "for i, img in enumerate(imagesList):\n",
    "    \n",
    "    image = cv2.cvtColor(img, cv2.COLOR_RGB2BGR)\n",
    "\n",
    "    image = cv2.resize(image, (224, 224))\n",
    "    \n",
    "    cv2.imwrite('./images/{}.png'.format(i), cv2.cvtColor(image,cv2.COLOR_BGR2RGB))\n"
   ]
  },
  {
   "cell_type": "code",
   "execution_count": null,
   "metadata": {},
   "outputs": [],
   "source": []
  }
 ],
 "metadata": {
  "kernelspec": {
   "display_name": "gputest",
   "language": "python",
   "name": "gputest"
  },
  "language_info": {
   "codemirror_mode": {
    "name": "ipython",
    "version": 3
   },
   "file_extension": ".py",
   "mimetype": "text/x-python",
   "name": "python",
   "nbconvert_exporter": "python",
   "pygments_lexer": "ipython3",
   "version": "3.7.7"
  }
 },
 "nbformat": 4,
 "nbformat_minor": 4
}
